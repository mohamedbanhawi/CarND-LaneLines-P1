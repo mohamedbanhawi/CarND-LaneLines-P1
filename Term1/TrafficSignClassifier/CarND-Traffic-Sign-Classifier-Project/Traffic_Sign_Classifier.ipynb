{
 "cells": [
  {
   "cell_type": "markdown",
   "metadata": {},
   "source": [
    "# Self-Driving Car Engineer Nanodegree\n",
    "\n",
    "## Deep Learning\n",
    "\n",
    "## Project: Build a Traffic Sign Recognition Classifier\n",
    "\n",
    "In this notebook, a template is provided for you to implement your functionality in stages, which is required to successfully complete this project. If additional code is required that cannot be included in the notebook, be sure that the Python code is successfully imported and included in your submission if necessary. \n",
    "\n",
    "> **Note**: Once you have completed all of the code implementations, you need to finalize your work by exporting the iPython Notebook as an HTML document. Before exporting the notebook to html, all of the code cells need to have been run so that reviewers can see the final implementation and output. You can then export the notebook by using the menu above and navigating to  \\n\",\n",
    "    \"**File -> Download as -> HTML (.html)**. Include the finished document along with this notebook as your submission. \n",
    "\n",
    "In addition to implementing code, there is a writeup to complete. The writeup should be completed in a separate file, which can be either a markdown file or a pdf document. There is a [write up template](https://github.com/udacity/CarND-Traffic-Sign-Classifier-Project/blob/master/writeup_template.md) that can be used to guide the writing process. Completing the code template and writeup template will cover all of the [rubric points](https://review.udacity.com/#!/rubrics/481/view) for this project.\n",
    "\n",
    "The [rubric](https://review.udacity.com/#!/rubrics/481/view) contains \"Stand Out Suggestions\" for enhancing the project beyond the minimum requirements. The stand out suggestions are optional. If you decide to pursue the \"stand out suggestions\", you can include the code in this Ipython notebook and also discuss the results in the writeup file.\n",
    "\n",
    "\n",
    ">**Note:** Code and Markdown cells can be executed using the **Shift + Enter** keyboard shortcut. In addition, Markdown cells can be edited by typically double-clicking the cell to enter edit mode."
   ]
  },
  {
   "cell_type": "markdown",
   "metadata": {},
   "source": [
    "---\n",
    "## Step 0: Load The Data"
   ]
  },
  {
   "cell_type": "code",
   "execution_count": 6,
   "metadata": {
    "collapsed": true
   },
   "outputs": [],
   "source": [
    "# Load pickled data\n",
    "import pickle\n",
    "import numpy as np\n",
    "\n",
    "training_file = \"traffic-signs-data/train.p\"\n",
    "validation_file= \"traffic-signs-data/valid.p\"\n",
    "testing_file = \"traffic-signs-data/test.p\"\n",
    "\n",
    "with open(training_file, mode='rb') as f:\n",
    "    train = pickle.load(f)\n",
    "with open(validation_file, mode='rb') as f:\n",
    "    valid = pickle.load(f)\n",
    "with open(testing_file, mode='rb') as f:\n",
    "    test = pickle.load(f)\n",
    "    \n",
    "X_train, y_train = train['features'], train['labels']\n",
    "X_valid, y_valid = valid['features'], valid['labels']\n",
    "X_test, y_test = test['features'], test['labels']"
   ]
  },
  {
   "cell_type": "markdown",
   "metadata": {},
   "source": [
    "---\n",
    "\n",
    "## Step 1: Dataset Summary & Exploration\n",
    "\n",
    "The pickled data is a dictionary with 4 key/value pairs:\n",
    "\n",
    "- `'features'` is a 4D array containing raw pixel data of the traffic sign images, (num examples, width, height, channels).\n",
    "- `'labels'` is a 1D array containing the label/class id of the traffic sign. The file `signnames.csv` contains id -> name mappings for each id.\n",
    "- `'sizes'` is a list containing tuples, (width, height) representing the original width and height the image.\n",
    "- `'coords'` is a list containing tuples, (x1, y1, x2, y2) representing coordinates of a bounding box around the sign in the image. **THESE COORDINATES ASSUME THE ORIGINAL IMAGE. THE PICKLED DATA CONTAINS RESIZED VERSIONS (32 by 32) OF THESE IMAGES**\n",
    "\n",
    "Complete the basic data summary below. Use python, numpy and/or pandas methods to calculate the data summary rather than hard coding the results. For example, the [pandas shape method](http://pandas.pydata.org/pandas-docs/stable/generated/pandas.DataFrame.shape.html) might be useful for calculating some of the summary results. "
   ]
  },
  {
   "cell_type": "markdown",
   "metadata": {},
   "source": [
    "### Provide a Basic Summary of the Data Set Using Python, Numpy and/or Pandas"
   ]
  },
  {
   "cell_type": "code",
   "execution_count": 7,
   "metadata": {},
   "outputs": [
    {
     "name": "stdout",
     "output_type": "stream",
     "text": [
      "Number of training examples = 34799\n",
      "Number of testing examples = 34799\n",
      "Image data shape = (32, 32, 3)\n",
      "Number of classes = 43\n"
     ]
    }
   ],
   "source": [
    "### Replace each question mark with the appropriate value. \n",
    "### Use python, pandas or numpy methods rather than hard coding the results\n",
    "\n",
    "# TODO: Number of training examples\n",
    "n_train = len(X_train)\n",
    "\n",
    "# TODO: Number of validation examples\n",
    "n_validation = len(X_valid)\n",
    "\n",
    "# TODO: Number of testing examples.\n",
    "n_test = len(X_train)\n",
    "\n",
    "# TODO: What's the shape of an traffic sign image?\n",
    "image_shape = X_train[0].shape\n",
    "\n",
    "# TODO: How many unique classes/labels there are in the dataset.\n",
    "n_classes = 43\n",
    "\n",
    "print(\"Number of training examples =\", n_train)\n",
    "print(\"Number of testing examples =\", n_test)\n",
    "print(\"Image data shape =\", image_shape)\n",
    "print(\"Number of classes =\", n_classes)"
   ]
  },
  {
   "cell_type": "markdown",
   "metadata": {},
   "source": [
    "### Include an exploratory visualization of the dataset"
   ]
  },
  {
   "cell_type": "markdown",
   "metadata": {},
   "source": [
    "Visualize the German Traffic Signs Dataset using the pickled file(s). This is open ended, suggestions include: plotting traffic sign images, plotting the count of each sign, etc. \n",
    "\n",
    "The [Matplotlib](http://matplotlib.org/) [examples](http://matplotlib.org/examples/index.html) and [gallery](http://matplotlib.org/gallery.html) pages are a great resource for doing visualizations in Python.\n",
    "\n",
    "**NOTE:** It's recommended you start with something simple first. If you wish to do more, come back to it after you've completed the rest of the sections. It can be interesting to look at the distribution of classes in the training, validation and test set. Is the distribution the same? Are there more examples of some classes than others?"
   ]
  },
  {
   "cell_type": "code",
   "execution_count": 8,
   "metadata": {},
   "outputs": [
    {
     "name": "stdout",
     "output_type": "stream",
     "text": [
      "20\n"
     ]
    },
    {
     "data": {
      "image/png": "[encoded data removed]",
      "text/plain": [
       "<matplotlib.figure.Figure at 0x7f3fd867cc88>"
      ]
     },
     "metadata": {},
     "output_type": "display_data"
    }
   ],
   "source": [
    "### Data exploration visualization code goes here.\n",
    "### Feel free to use as many code cells as needed.\n",
    "import random\n",
    "import numpy as np\n",
    "import matplotlib.pyplot as plt\n",
    "# Visualizations will be shown in the notebook.\n",
    "%matplotlib inline\n",
    "\n",
    "index = random.randint(0, len(X_train))\n",
    "image = X_train[index]\n",
    "\n",
    "plt.figure(figsize=(1,1))\n",
    "plt.imshow(image)\n",
    "print(y_train[index])"
   ]
  },
  {
   "cell_type": "markdown",
   "metadata": {},
   "source": [
    "----\n",
    "\n",
    "## Step 2: Design and Test a Model Architecture\n",
    "\n",
    "Design and implement a deep learning model that learns to recognize traffic signs. Train and test your model on the [German Traffic Sign Dataset](http://benchmark.ini.rub.de/?section=gtsrb&subsection=dataset).\n",
    "\n",
    "The LeNet-5 implementation shown in the [classroom](https://classroom.udacity.com/nanodegrees/nd013/parts/fbf77062-5703-404e-b60c-95b78b2f3f9e/modules/6df7ae49-c61c-4bb2-a23e-6527e69209ec/lessons/601ae704-1035-4287-8b11-e2c2716217ad/concepts/d4aca031-508f-4e0b-b493-e7b706120f81) at the end of the CNN lesson is a solid starting point. You'll have to change the number of classes and possibly the preprocessing, but aside from that it's plug and play! \n",
    "\n",
    "With the LeNet-5 solution from the lecture, you should expect a validation set accuracy of about 0.89. To meet specifications, the validation set accuracy will need to be at least 0.93. It is possible to get an even higher accuracy, but 0.93 is the minimum for a successful project submission. \n",
    "\n",
    "There are various aspects to consider when thinking about this problem:\n",
    "\n",
    "- Neural network architecture (is the network over or underfitting?)\n",
    "- Play around preprocessing techniques (normalization, rgb to grayscale, etc)\n",
    "- Number of examples per label (some have more than others).\n",
    "- Generate fake data.\n",
    "\n",
    "Here is an example of a [published baseline model on this problem](http://yann.lecun.com/exdb/publis/pdf/sermanet-ijcnn-11.pdf). It's not required to be familiar with the approach used in the paper but, it's good practice to try to read papers like these."
   ]
  },
  {
   "cell_type": "markdown",
   "metadata": {},
   "source": [
    "### Pre-process the Data Set (normalization, grayscale, etc.)"
   ]
  },
  {
   "cell_type": "markdown",
   "metadata": {},
   "source": [
    "Minimally, the image data should be normalized so that the data has mean zero and equal variance. For image data, `(pixel - 128)/ 128` is a quick way to approximately normalize the data and can be used in this project. \n",
    "\n",
    "Other pre-processing steps are optional. You can try different techniques to see if it improves performance. \n",
    "\n",
    "Use the code cell (or multiple code cells, if necessary) to implement the first step of your project."
   ]
  },
  {
   "cell_type": "markdown",
   "metadata": {},
   "source": [
    "### Load Labels from CSV"
   ]
  },
  {
   "cell_type": "code",
   "execution_count": 9,
   "metadata": {},
   "outputs": [],
   "source": [
    "label_values = np.genfromtxt('signnames.csv', skip_header=1, dtype=[('myint','i8'), ('mysring','S55')], delimiter=',')\n",
    "label_index = y_train[index]\n",
    "label_description = label_values[label_index][1].decode('ascii')"
   ]
  },
  {
   "cell_type": "code",
   "execution_count": 10,
   "metadata": {},
   "outputs": [
    {
     "name": "stdout",
     "output_type": "stream",
     "text": [
      "Test max: 255, min: 0\n",
      "Train max: 255, min: 0\n",
      "Valid max: 255, min: 0\n",
      "Normalising Dataset..\n",
      "Test max: 0.9, min: 0.1\n",
      "Train max: 0.9, min: 0.1\n",
      "Valid max: 0.9, min: 0.1\n",
      "ZERO CENTRE..\n",
      "Test max: 0.4, min: -0.4\n",
      "Train max: 0.4, min: -0.4\n",
      "Valid max: 0.4, min: -0.4\n",
      "Translating Pixles by -2/2..\n",
      "Translating Pixles by -10/10..\n",
      "Rotating Pixles by +/- 15 degs..\n",
      "Rotating Pixles by +/- 5 degs..\n",
      "blur..\n",
      "blur..\n",
      "Trainig data shape (104397, 32, 32, 3)\n"
     ]
    },
    {
     "data": {
      "image/png": "[encoded data removed]",
      "text/plain": [
       "<matplotlib.figure.Figure at 0x7f3fa9d7dc88>"
      ]
     },
     "metadata": {},
     "output_type": "display_data"
    },
    {
     "data": {
      "image/png": "[encoded data removed]",
      "text/plain": [
       "<matplotlib.figure.Figure at 0x7f3fa92b4dd8>"
      ]
     },
     "metadata": {},
     "output_type": "display_data"
    },
    {
     "data": {
      "image/png": "[encoded data removed]",
      "text/plain": [
       "<matplotlib.figure.Figure at 0x7f3fa9280dd8>"
      ]
     },
     "metadata": {},
     "output_type": "display_data"
    },
    {
     "data": {
      "image/png": "[encoded data removed]",
      "text/plain": [
       "<matplotlib.figure.Figure at 0x7f3fa9248ba8>"
      ]
     },
     "metadata": {},
     "output_type": "display_data"
    },
    {
     "data": {
      "image/png": "[encoded data removed]",
      "text/plain": [
       "<matplotlib.figure.Figure at 0x7f3fa919bfd0>"
      ]
     },
     "metadata": {},
     "output_type": "display_data"
    },
    {
     "data": {
      "image/png": "[encoded data removed]",
      "text/plain": [
       "<matplotlib.figure.Figure at 0x7f3fa915de48>"
      ]
     },
     "metadata": {},
     "output_type": "display_data"
    },
    {
     "data": {
      "image/png": "[encoded data removed]",
      "text/plain": [
       "<matplotlib.figure.Figure at 0x7f3fa911dac8>"
      ]
     },
     "metadata": {},
     "output_type": "display_data"
    },
    {
     "data": {
      "image/png": "[encoded data removed]",
      "text/plain": [
       "<matplotlib.figure.Figure at 0x7f3fa90e2c88>"
      ]
     },
     "metadata": {},
     "output_type": "display_data"
    },
    {
     "data": {
      "image/png": "[encoded data removed]",
      "text/plain": [
       "<matplotlib.figure.Figure at 0x7f3fa90ba7b8>"
      ]
     },
     "metadata": {},
     "output_type": "display_data"
    },
    {
     "data": {
      "image/png": "[encoded data removed]",
      "text/plain": [
       "<matplotlib.figure.Figure at 0x7f3fa907fb00>"
      ]
     },
     "metadata": {},
     "output_type": "display_data"
    }
   ],
   "source": [
    "\"\"\"\n",
    "Implementing the pre-processing stage (III.A)\n",
    "`Traffic Sign Recognition with Multi-Scale Convolutional Networks` by \n",
    "Pierre Sermanet and Yann LeCu\n",
    "\"\"\"\n",
    "from skimage.transform import rescale, AffineTransform, warp, resize\n",
    "import scipy     \n",
    "import math\n",
    "\n",
    "# increase training dataset by manipulating datasets\n",
    "\n",
    "\n",
    "def normalize(image_data, max_val = 255, min_val = 0):\n",
    "    \"\"\"\n",
    "    Normalize the image data with Min-Max scaling to a range of [0.1, 0.9]\n",
    "    :param image_data: The image data to be normalized\n",
    "    :return: Normalized image data\n",
    "    \"\"\"\n",
    "    a = 0.1\n",
    "    b = 0.9\n",
    "    normalised_img = a + ( ( (image_data - min_val)*(b - a) )/( max_val - min_val))\n",
    "    return normalised_img\n",
    "\n",
    "def zero_center(normalised_img):\n",
    "  \n",
    "    centred_img = normalised_img - 0.5\n",
    "    return centred_img\n",
    "\n",
    "def yuv_to_rgb(rgb_img):\n",
    "    ## YUV space \n",
    "    # Conversion matrix from rgb to yuv, transpose matrix is used to convert from yuv to rgb\n",
    "    yuv_from_rgb = np.array([[ 0.299     ,  0.587     ,  0.114      ],\n",
    "                         [-0.14714119, -0.28886916,  0.43601035 ],\n",
    "                         [ 0.61497538, -0.51496512, -0.10001026 ]])\n",
    "\n",
    "\n",
    "    # matrix multiplication\n",
    "    yuv_img = rgb_img.dot(yuv_from_rgb.T.copy())\n",
    "                \n",
    "    return yuv_img\n",
    "\n",
    "def shift_dataset(images, vector):\n",
    "    for i in range(images.shape[0]):\n",
    "        im = np.copy(images[i])\n",
    "        transform = AffineTransform(translation=vector)\n",
    "        im = warp(images[i], transform, mode='wrap', preserve_range=True)\n",
    "        images[i] = image.astype(im.dtype)\n",
    "    return images\n",
    "\n",
    "def scale_dataset(images, val):\n",
    "    for i in range(images.shape[0]):\n",
    "        images[i] = scipy.ndimage.zoom(images[i], val, mode = 'constant',reshape = False)\n",
    "    return images\n",
    "\n",
    "def rotate_dataset(images, angle):\n",
    "    for i in range(images.shape[0]):\n",
    "        im = np.copy(images[i])\n",
    "        im = scipy.ndimage.rotate(images[i], angle, reshape=False)\n",
    "        images[i] = np.copy(im)\n",
    "    return images\n",
    "\n",
    "def rgb_grayscale(rgb_img):\n",
    "    return np.sum(rgb_img/3, axis=3, keepdims=True)\n",
    "\n",
    "def blur(img,alpha):\n",
    "    return scipy.ndimage.filters.gaussian_filter(img,alpha)\n",
    "\n",
    "# normalise to 0-1 range\n",
    "print(\"Test max: {}, min: {}\".format(np.max(X_test),np.min(X_test)))\n",
    "print(\"Train max: {}, min: {}\".format(np.max(X_train),np.min(X_train)))\n",
    "print(\"Valid max: {}, min: {}\".format(np.max(X_valid),np.min(X_valid)))\n",
    "\n",
    "print(\"Normalising Dataset..\")\n",
    "X_test = normalize(X_test)\n",
    "X_train = normalize(X_train)\n",
    "X_valid = normalize(X_valid)\n",
    "print(\"Test max: {}, min: {}\".format(np.max(X_test),np.min(X_test)))\n",
    "print(\"Train max: {}, min: {}\".format(np.max(X_train),np.min(X_train)))\n",
    "print(\"Valid max: {}, min: {}\".format(np.max(X_valid),np.min(X_valid)))\n",
    "\n",
    "print(\"ZERO CENTRE..\")\n",
    "X_test = zero_center(X_test)\n",
    "X_train = zero_center(X_train)\n",
    "X_valid = zero_center(X_valid)\n",
    "print(\"Test max: {}, min: {}\".format(np.max(X_test),np.min(X_test)))\n",
    "print(\"Train max: {}, min: {}\".format(np.max(X_train),np.min(X_train)))\n",
    "print(\"Valid max: {}, min: {}\".format(np.max(X_valid),np.min(X_valid)))\n",
    "\n",
    "print(\"Translating Pixles by -2/2..\")\n",
    "# in position ([-2,2] pixels), \n",
    "shift_pos = np.copy(X_train)\n",
    "shift_neg = np.copy(X_train)\n",
    "shift_pos = shift_dataset(shift_pos, (2,2))\n",
    "shift_neg = shift_dataset(shift_neg, (-2,-2))\n",
    "\n",
    "\n",
    "assert(shift_pos.shape == X_train.shape)\n",
    "assert(shift_neg.shape == X_train.shape)\n",
    "\n",
    "image = shift_pos[index]\n",
    "\n",
    "plt.figure()\n",
    "plt.title('Shifted by -2 '+label_description)\n",
    "plt.imshow(image)\n",
    "\n",
    "image = shift_neg[index]\n",
    "\n",
    "plt.figure()\n",
    "plt.title('Shifted by +2 '+label_description)\n",
    "plt.imshow(image)\n",
    "\n",
    "X_train_manipulated = np.concatenate((X_train, shift_neg, shift_pos), axis =0)\n",
    "y_train_manipulated = np.concatenate((y_train, y_train, y_train), axis = 0)\n",
    "shift_neg = None\n",
    "shift_pos = None\n",
    "\n",
    "print(\"Translating Pixles by -10/10..\")\n",
    "# in position ([-2,2] pixels), \n",
    "shift_pos = np.copy(X_train)\n",
    "shift_neg = np.copy(X_train)\n",
    "shift_pos = shift_dataset(shift_pos, (10,10))\n",
    "shift_neg = shift_dataset(shift_neg, (-10,-10))\n",
    "assert(shift_pos.shape == X_train.shape)\n",
    "assert(shift_neg.shape == X_train.shape)\n",
    "image = shift_pos[index]\n",
    "plt.figure()\n",
    "plt.title('Shifted by -10 '+label_description)\n",
    "plt.imshow(image)\n",
    "image = shift_neg[index]\n",
    "plt.figure()\n",
    "plt.title('Shifted by +10 '+label_description)\n",
    "plt.imshow(image)\n",
    "X_train_manipulated = np.concatenate((X_train, shift_neg, shift_pos), axis =0)\n",
    "y_train_manipulated = np.concatenate((y_train, y_train, y_train), axis = 0)\n",
    "shift_neg = None\n",
    "shift_pos = None\n",
    "\n",
    "\n",
    "print(\"Rotating Pixles by +/- 15 degs..\")\n",
    "# and rotation ([-15,+15] degrees). \n",
    "angle = 15\n",
    "rotate_pos = np.copy(X_train)\n",
    "rotate_neg = np.copy(X_train)\n",
    "\n",
    "rotate_pos = rotate_dataset(rotate_pos, angle)\n",
    "rotate_neg = rotate_dataset(rotate_neg, -1*angle)\n",
    "assert(rotate_pos.shape == X_train.shape)\n",
    "assert(rotate_neg.shape == X_train.shape)\n",
    "\n",
    "image = rotate_pos[index]\n",
    "\n",
    "plt.figure()\n",
    "plt.title('Rotated by 15+ '+label_description)\n",
    "plt.imshow(image)\n",
    "\n",
    "image = rotate_neg[index]\n",
    "\n",
    "plt.figure()\n",
    "plt.title('Rotated by -15 '+label_description)\n",
    "plt.imshow(image)\n",
    "\n",
    "X_train_manipulated = np.concatenate((X_train, rotate_neg, rotate_pos), axis =0)\n",
    "y_train_manipulated = np.concatenate((y_train, y_train, y_train), axis = 0)\n",
    "rotate_neg = None\n",
    "rotate_pos = None\n",
    "\n",
    "print(\"Rotating Pixles by +/- 5 degs..\")\n",
    "# and rotation ([-15,+15] degrees). \n",
    "angle = 5\n",
    "rotate_pos_5 = np.copy(X_train)\n",
    "rotate_neg_5 = np.copy(X_train)\n",
    "\n",
    "rotate_pos_5 = rotate_dataset(rotate_pos_5, angle)\n",
    "rotate_neg_5 = rotate_dataset(rotate_neg_5, -1*angle)\n",
    "assert(rotate_pos_5.shape == X_train.shape)\n",
    "assert(rotate_neg_5.shape == X_train.shape)\n",
    "\n",
    "image = rotate_pos_5[index]\n",
    "\n",
    "plt.figure()\n",
    "plt.title('Rotated by 5+ '+label_description)\n",
    "plt.imshow(image)\n",
    "\n",
    "image = rotate_neg_5[index]\n",
    "\n",
    "plt.figure()\n",
    "plt.title('Rotated by -5 '+label_description)\n",
    "plt.imshow(image)\n",
    "\n",
    "X_train_manipulated = np.concatenate((X_train, rotate_neg_5, rotate_pos_5), axis =0)\n",
    "y_train_manipulated = np.concatenate((y_train, y_train, y_train), axis = 0)\n",
    "rotate_neg_5 = None\n",
    "rotate_pos_5 = None\n",
    "\n",
    "print(\"blur..\")\n",
    "alpha = 0.2\n",
    "blur1 = np.copy(X_train)\n",
    "blur1 = blur(blur1, alpha)\n",
    "assert(blur1.shape == X_train.shape)\n",
    "image = blur1[index]\n",
    "plt.figure()\n",
    "plt.title('Blurred '+label_description)\n",
    "plt.imshow(image)\n",
    "\n",
    "print(\"blur..\")\n",
    "alpha = 0.5\n",
    "blur2 = np.copy(X_train)\n",
    "blur2 = blur(blur2, alpha)\n",
    "assert(blur1.shape == X_train.shape)\n",
    "image = blur2[index]\n",
    "plt.figure()\n",
    "plt.title('Blurred '+label_description)\n",
    "plt.imshow(image)\n",
    "\n",
    "\n",
    "X_train_manipulated = np.concatenate((X_train, blur1, blur2), axis =0)\n",
    "y_train_manipulated = np.concatenate((y_train, y_train, y_train), axis = 0)\n",
    "blur1 = None\n",
    "blur2 = None\n",
    "\n",
    "\n",
    "if (0): # experimental code\n",
    "    print(\"Scaling image by 0.9/1.1 ..\")\n",
    "    # in scale ([.9,1.1] ratio) \n",
    "    low_scale = scale_dataset(X_train, 0.9)\n",
    "    up_scale  = scale_dataset(X_train, 1.1)\n",
    "    assert(low_scale.shape == X_train.shape)\n",
    "    assert(up_scale.shape == X_train.shape)\n",
    "\n",
    "    image = low_scale[index]\n",
    "\n",
    "    plt.figure()\n",
    "    plt.title('Low scale '+label_description)\n",
    "    plt.imshow(image)\n",
    "    \n",
    "    image = up_scale[index]\n",
    "\n",
    "    plt.figure()\n",
    "    plt.title('Up scale '+label_description)\n",
    "    plt.imshow(image)\n",
    "\n",
    "    X_train_manipulated = np.concatenate((X_train_manipulated, low_scale), axis =0)\n",
    "    X_train_manipulated = np.concatenate((X_train_manipulated, up_scale), axis =0)\n",
    "    y_train_manipulated = np.concatenate((y_train_manipulated, y_train), axis = 0)\n",
    "    y_train_manipulated = np.concatenate((y_train_manipulated, y_train), axis = 0)\n",
    "\n",
    "\n",
    "# increase training dataset by manipulating datasets\n",
    "y_train = y_train_manipulated\n",
    "X_train = X_train_manipulated\n",
    "print(\"Trainig data shape {}\".format(X_train.shape))"
   ]
  },
  {
   "cell_type": "markdown",
   "metadata": {},
   "source": [
    "### Model Architecture"
   ]
  },
  {
   "cell_type": "code",
   "execution_count": 13,
   "metadata": {
    "collapsed": true
   },
   "outputs": [],
   "source": [
    "import tensorflow as tf\n",
    "from tensorflow.contrib.layers import flatten\n",
    "\n",
    "\n",
    "def LeNet(x):    \n",
    "    # Arguments used for tf.truncated_normal, randomly defines variables for the weights and biases for each layer\n",
    "    mu = 0\n",
    "    sigma = 0.1\n",
    "    \n",
    "     # Layer 1: Convolutional. Input = 32x32x3. Output = 30x30x32.\n",
    "    conv1_W = tf.Variable(tf.truncated_normal(shape=(3, 3, 3, 32), mean = mu, stddev = sigma))\n",
    "    conv1_b = tf.Variable(tf.zeros(32))\n",
    "    conv1   = tf.nn.conv2d(x, conv1_W, strides=[1, 1, 1, 1], padding='VALID') + conv1_b\n",
    "    conv1   = tf.nn.relu(conv1)\n",
    "\n",
    "    # Layer 2: Convolutional. Output = 28x28x32.\n",
    "    conv2_W = tf.Variable(tf.truncated_normal(shape=(3, 3, 32, 32), mean = mu, stddev = sigma))\n",
    "    conv2_b = tf.Variable(tf.zeros(32))\n",
    "    conv2   = tf.nn.conv2d(conv1, conv2_W, strides=[1, 1, 1, 1], padding='VALID') + conv2_b\n",
    "    conv2   = tf.nn.relu(conv2)\n",
    "\n",
    "    # Pooling. Input = 28x28x32. Output = 14x14x32.\n",
    "    conv2 = tf.nn.max_pool(conv2, ksize=[1, 2, 2, 1], strides=[1, 2, 2, 1], padding='VALID')\n",
    "    conv2 = tf.nn.dropout(conv2, keep_prob = 0.6)\n",
    "\n",
    "    # Layer 3: Convolutional. Iutput = 14x14x32. Output = 12x12x64\n",
    "    conv3_W = tf.Variable(tf.truncated_normal(shape=(3, 3, 32, 64), mean = mu, stddev = sigma))\n",
    "    conv3_b = tf.Variable(tf.zeros(64))\n",
    "    conv3   = tf.nn.conv2d(conv2, conv3_W, strides=[1, 1, 1, 1], padding='VALID') + conv3_b\n",
    "    conv3   = tf.nn.relu(conv3)\n",
    "\n",
    "    # Layer 4: Convolutional. Iutput = 12x12x64. Output = 10x10x64\n",
    "    conv4_W = tf.Variable(tf.truncated_normal(shape=(3, 3, 64, 64), mean = mu, stddev = sigma))\n",
    "    conv4_b = tf.Variable(tf.zeros(64))\n",
    "    conv4   = tf.nn.conv2d(conv3, conv4_W, strides=[1, 1, 1, 1], padding='VALID') + conv4_b\n",
    "    conv4   = tf.nn.relu(conv4)\n",
    "\n",
    "    # Pooling. Input = 10x10x64. Output = 5x5x64.\n",
    "    conv4 = tf.nn.max_pool(conv4, ksize=[1, 2, 2, 1], strides=[1, 2, 2, 1], padding='VALID')\n",
    "    conv4 = tf.nn.dropout(conv4, keep_prob = 0.6)\n",
    "\n",
    "    # Layer 5: Convolutional. Iutput = 5x5x64. Output = 3x3x128\n",
    "    conv5_W = tf.Variable(tf.truncated_normal(shape=(3, 3, 64, 128), mean = mu, stddev = sigma))\n",
    "    conv5_b = tf.Variable(tf.zeros(128))\n",
    "    conv5   = tf.nn.conv2d(conv4, conv5_W, strides=[1, 1, 1, 1], padding='VALID') + conv5_b\n",
    "    conv5   = tf.nn.relu(conv5)\n",
    "\n",
    "    # Flatten. Input = 3x3x128. Output = 1152.\n",
    "    fc0   = flatten(conv5)\n",
    "\n",
    "    # Layer 3: Fully Connected. Input = 2048. Output = 1024.\n",
    "    fc1_W = tf.Variable(tf.truncated_normal(shape=(1152, 1024), mean = mu, stddev = sigma))\n",
    "    fc1_b = tf.Variable(tf.zeros(1024))\n",
    "    fc1   = tf.matmul(fc0, fc1_W) + fc1_b\n",
    "\n",
    "    # Activation.\n",
    "    fc1 = tf.nn.relu(fc1)\n",
    "    fc1 = tf.nn.dropout(fc1, keep_prob = 0.6)\n",
    "\n",
    "    # Layer 4: Fully Connected. Input = 1024. Output = 1024.\n",
    "    fc2_W  = tf.Variable(tf.truncated_normal(shape=(1024, 1024), mean = mu, stddev = sigma))\n",
    "    fc2_b  = tf.Variable(tf.zeros(1024))\n",
    "    fc2    = tf.matmul(fc1, fc2_W) + fc2_b\n",
    "\n",
    "    # Activation.\n",
    "    fc2 = tf.nn.relu(fc2)\n",
    "    fc2 = tf.nn.dropout(fc2, keep_prob = 0.6)\n",
    "\n",
    "    # Layer 5: Fully Connected. Input = 1024. Output = 43.\n",
    "    fc3_W       = tf.Variable(tf.truncated_normal(shape=(1024, 43), mean = mu, stddev = sigma))\n",
    "    fc3_b       = tf.Variable(tf.zeros(43))\n",
    "    logits = tf.matmul(fc2, fc3_W) + fc3_b\n",
    "\n",
    "    return logits"
   ]
  },
  {
   "cell_type": "markdown",
   "metadata": {},
   "source": [
    "### Train, Validate and Test the Model"
   ]
  },
  {
   "cell_type": "markdown",
   "metadata": {},
   "source": [
    "A validation set can be used to assess how well the model is performing. A low accuracy on the training and validation\n",
    "sets imply underfitting. A high accuracy on the training set but low accuracy on the validation set implies overfitting."
   ]
  },
  {
   "cell_type": "code",
   "execution_count": null,
   "metadata": {},
   "outputs": [
    {
     "name": "stdout",
     "output_type": "stream",
     "text": [
      "Training...\n",
      "EPOCH 1 ...\n",
      "Validation Accuracy = 0.384\n",
      "\n",
      "EPOCH 2 ...\n",
      "Validation Accuracy = 0.780\n",
      "\n",
      "EPOCH 3 ...\n",
      "Validation Accuracy = 0.869\n",
      "\n",
      "EPOCH 4 ...\n",
      "Validation Accuracy = 0.906\n",
      "\n",
      "EPOCH 5 ...\n",
      "Validation Accuracy = 0.925\n",
      "\n",
      "EPOCH 6 ...\n",
      "Validation Accuracy = 0.930\n",
      "\n"
     ]
    }
   ],
   "source": [
    "from sklearn.utils import shuffle\n",
    "\n",
    "# place holders\n",
    "x = tf.placeholder(tf.float32, (None, 32, 32, 3))\n",
    "y = tf.placeholder(tf.int32, (None))\n",
    "one_hot_y = tf.one_hot(y, n_classes)\n",
    "\n",
    "### Training pipeline\n",
    "rate = 0.00098\n",
    "\n",
    "EPOCHS = 30\n",
    "BATCH_SIZE =1024\n",
    "\n",
    "logits = LeNet(x)\n",
    "cross_entropy = tf.nn.softmax_cross_entropy_with_logits(labels=one_hot_y, logits=logits)\n",
    "loss_operation = tf.reduce_mean(cross_entropy)\n",
    "\n",
    "# Adam optimiser is a modified SGD algorithm with modified training rate\n",
    "optimizer = tf.train.AdamOptimizer(learning_rate = rate)\n",
    "\n",
    "training_operation = optimizer.minimize(loss_operation)\n",
    "\n",
    "### Calculate and report the accuracy on the training and validation set.\n",
    "correct_prediction = tf.equal(tf.argmax(logits, 1), tf.argmax(one_hot_y, 1))\n",
    "accuracy_operation = tf.reduce_mean(tf.cast(correct_prediction, tf.float32))\n",
    "saver = tf.train.Saver()\n",
    "\n",
    "def evaluate(X_data, y_data):\n",
    "    num_examples = len(X_data)\n",
    "    total_accuracy = 0\n",
    "    sess = tf.get_default_session()\n",
    "    for offset in range(0, num_examples, BATCH_SIZE):\n",
    "        batch_x, batch_y = X_data[offset:offset+BATCH_SIZE], y_data[offset:offset+BATCH_SIZE]\n",
    "        accuracy = sess.run(accuracy_operation, feed_dict={x: batch_x, y: batch_y})\n",
    "        total_accuracy += (accuracy * len(batch_x))\n",
    "    return total_accuracy / num_examples\n",
    "\n",
    "with tf.Session() as sess:\n",
    "    sess.run(tf.global_variables_initializer())\n",
    "    num_examples = len(X_train)\n",
    "    \n",
    "    print(\"Training...\")\n",
    "    for i in range(EPOCHS):\n",
    "        X_train, y_train = shuffle(X_train, y_train)\n",
    "        for offset in range(0, num_examples, BATCH_SIZE):\n",
    "            end = offset + BATCH_SIZE\n",
    "            batch_x, batch_y = X_train[offset:end], y_train[offset:end]\n",
    "            sess.run(training_operation, feed_dict={x: batch_x, y: batch_y})\n",
    "            \n",
    "        validation_accuracy = evaluate(X_valid, y_valid)\n",
    "        print(\"EPOCH {} ...\".format(i+1))\n",
    "        print(\"Validation Accuracy = {:.3f}\".format(validation_accuracy))\n",
    "        print()\n",
    "        \n",
    "    saver.save(sess, './traffic_sign_lenet')\n",
    "    print(\"Model saved\")\n",
    "    \n",
    "### Once a final model architecture is selected, \n",
    "### the accuracy on the test set should be calculated and reported as well.\n",
    "# with tf.Session() as sess:\n",
    "#     saver.restore(sess, tf.train.latest_checkpoint('.'))\n",
    "\n",
    "#     test_accuracy = evaluate(X_test, y_test)\n",
    "#     print(\"Test Accuracy = {:.3f}\".format(test_accuracy))"
   ]
  },
  {
   "cell_type": "markdown",
   "metadata": {},
   "source": [
    "---\n",
    "\n",
    "## Step 3: Test a Model on New Images\n",
    "\n",
    "To give yourself more insight into how your model is working, download at least five pictures of German traffic signs from the web and use your model to predict the traffic sign type.\n",
    "\n",
    "You may find `signnames.csv` useful as it contains mappings from the class id (integer) to the actual sign name."
   ]
  },
  {
   "cell_type": "markdown",
   "metadata": {},
   "source": [
    "### Load and Output the Images"
   ]
  },
  {
   "cell_type": "code",
   "execution_count": null,
   "metadata": {},
   "outputs": [],
   "source": [
    "import scipy\n",
    "from os import listdir\n",
    "### Load the images and plot them here.\n",
    "X_online = []\n",
    "\n",
    "files = [f for f in listdir('online_test') if '.ppm' in f]\n",
    "\n",
    "for file in files:\n",
    "    image = scipy.ndimage.imread('online_test/'+file)\n",
    "    X_online.append(file)\n",
    "X_online = np.array([X_online])    \n",
    "print(files, X_online.shape)"
   ]
  },
  {
   "cell_type": "markdown",
   "metadata": {},
   "source": [
    "### Predict the Sign Type for Each Image"
   ]
  },
  {
   "cell_type": "code",
   "execution_count": null,
   "metadata": {
    "collapsed": true
   },
   "outputs": [],
   "source": [
    "### Run the predictions here and use the model to output the prediction for each image.\n",
    "### Make sure to pre-process the images with the same pre-processing pipeline used earlier.\n",
    "### Feel free to use as many code cells as needed."
   ]
  },
  {
   "cell_type": "markdown",
   "metadata": {},
   "source": [
    "### Analyze Performance"
   ]
  },
  {
   "cell_type": "code",
   "execution_count": null,
   "metadata": {
    "collapsed": true
   },
   "outputs": [],
   "source": [
    "### Calculate the accuracy for these 5 new images. \n",
    "### For example, if the model predicted 1 out of 5 signs correctly, it's 20% accurate on these new images."
   ]
  },
  {
   "cell_type": "markdown",
   "metadata": {},
   "source": [
    "### Output Top 5 Softmax Probabilities For Each Image Found on the Web"
   ]
  },
  {
   "cell_type": "markdown",
   "metadata": {},
   "source": [
    "For each of the new images, print out the model's softmax probabilities to show the **certainty** of the model's predictions (limit the output to the top 5 probabilities for each image). [`tf.nn.top_k`](https://www.tensorflow.org/versions/r0.12/api_docs/python/nn.html#top_k) could prove helpful here. \n",
    "\n",
    "The example below demonstrates how tf.nn.top_k can be used to find the top k predictions for each image.\n",
    "\n",
    "`tf.nn.top_k` will return the values and indices (class ids) of the top k predictions. So if k=3, for each sign, it'll return the 3 largest probabilities (out of a possible 43) and the correspoding class ids.\n",
    "\n",
    "Take this numpy array as an example. The values in the array represent predictions. The array contains softmax probabilities for five candidate images with six possible classes. `tf.nn.top_k` is used to choose the three classes with the highest probability:\n",
    "\n",
    "```\n",
    "# (5, 6) array\n",
    "a = np.array([[ 0.24879643,  0.07032244,  0.12641572,  0.34763842,  0.07893497,\n",
    "         0.12789202],\n",
    "       [ 0.28086119,  0.27569815,  0.08594638,  0.0178669 ,  0.18063401,\n",
    "         0.15899337],\n",
    "       [ 0.26076848,  0.23664738,  0.08020603,  0.07001922,  0.1134371 ,\n",
    "         0.23892179],\n",
    "       [ 0.11943333,  0.29198961,  0.02605103,  0.26234032,  0.1351348 ,\n",
    "         0.16505091],\n",
    "       [ 0.09561176,  0.34396535,  0.0643941 ,  0.16240774,  0.24206137,\n",
    "         0.09155967]])\n",
    "```\n",
    "\n",
    "Running it through `sess.run(tf.nn.top_k(tf.constant(a), k=3))` produces:\n",
    "\n",
    "```\n",
    "TopKV2(values=array([[ 0.34763842,  0.24879643,  0.12789202],\n",
    "       [ 0.28086119,  0.27569815,  0.18063401],\n",
    "       [ 0.26076848,  0.23892179,  0.23664738],\n",
    "       [ 0.29198961,  0.26234032,  0.16505091],\n",
    "       [ 0.34396535,  0.24206137,  0.16240774]]), indices=array([[3, 0, 5],\n",
    "       [0, 1, 4],\n",
    "       [0, 5, 1],\n",
    "       [1, 3, 5],\n",
    "       [1, 4, 3]], dtype=int32))\n",
    "```\n",
    "\n",
    "Looking just at the first row we get `[ 0.34763842,  0.24879643,  0.12789202]`, you can confirm these are the 3 largest probabilities in `a`. You'll also notice `[3, 0, 5]` are the corresponding indices."
   ]
  },
  {
   "cell_type": "code",
   "execution_count": null,
   "metadata": {
    "collapsed": true
   },
   "outputs": [],
   "source": [
    "### Print out the top five softmax probabilities for the predictions on the German traffic sign images found on the web. \n",
    "### Feel free to use as many code cells as needed."
   ]
  },
  {
   "cell_type": "markdown",
   "metadata": {},
   "source": [
    "### Project Writeup\n",
    "\n",
    "Once you have completed the code implementation, document your results in a project writeup using this [template](https://github.com/udacity/CarND-Traffic-Sign-Classifier-Project/blob/master/writeup_template.md) as a guide. The writeup can be in a markdown or pdf file. "
   ]
  },
  {
   "cell_type": "markdown",
   "metadata": {},
   "source": [
    "> **Note**: Once you have completed all of the code implementations and successfully answered each question above, you may finalize your work by exporting the iPython Notebook as an HTML document. You can do this by using the menu above and navigating to  \\n\",\n",
    "    \"**File -> Download as -> HTML (.html)**. Include the finished document along with this notebook as your submission."
   ]
  },
  {
   "cell_type": "markdown",
   "metadata": {},
   "source": [
    "---\n",
    "\n",
    "## Step 4 (Optional): Visualize the Neural Network's State with Test Images\n",
    "\n",
    " This Section is not required to complete but acts as an additional excersise for understaning the output of a neural network's weights. While neural networks can be a great learning device they are often referred to as a black box. We can understand what the weights of a neural network look like better by plotting their feature maps. After successfully training your neural network you can see what it's feature maps look like by plotting the output of the network's weight layers in response to a test stimuli image. From these plotted feature maps, it's possible to see what characteristics of an image the network finds interesting. For a sign, maybe the inner network feature maps react with high activation to the sign's boundary outline or to the contrast in the sign's painted symbol.\n",
    "\n",
    " Provided for you below is the function code that allows you to get the visualization output of any tensorflow weight layer you want. The inputs to the function should be a stimuli image, one used during training or a new one you provided, and then the tensorflow variable name that represents the layer's state during the training process, for instance if you wanted to see what the [LeNet lab's](https://classroom.udacity.com/nanodegrees/nd013/parts/fbf77062-5703-404e-b60c-95b78b2f3f9e/modules/6df7ae49-c61c-4bb2-a23e-6527e69209ec/lessons/601ae704-1035-4287-8b11-e2c2716217ad/concepts/d4aca031-508f-4e0b-b493-e7b706120f81) feature maps looked like for it's second convolutional layer you could enter conv2 as the tf_activation variable.\n",
    "\n",
    "For an example of what feature map outputs look like, check out NVIDIA's results in their paper [End-to-End Deep Learning for Self-Driving Cars](https://devblogs.nvidia.com/parallelforall/deep-learning-self-driving-cars/) in the section Visualization of internal CNN State. NVIDIA was able to show that their network's inner weights had high activations to road boundary lines by comparing feature maps from an image with a clear path to one without. Try experimenting with a similar test to show that your trained network's weights are looking for interesting features, whether it's looking at differences in feature maps from images with or without a sign, or even what feature maps look like in a trained network vs a completely untrained one on the same sign image.\n",
    "\n",
    "<figure>\n",
    " <img src=\"visualize_cnn.png\" width=\"380\" alt=\"Combined Image\" />\n",
    " <figcaption>\n",
    " <p></p> \n",
    " <p style=\"text-align: center;\"> Your output should look something like this (above)</p> \n",
    " </figcaption>\n",
    "</figure>\n",
    " <p></p> \n"
   ]
  },
  {
   "cell_type": "code",
   "execution_count": null,
   "metadata": {
    "collapsed": true
   },
   "outputs": [],
   "source": [
    "### Visualize your network's feature maps here.\n",
    "### Feel free to use as many code cells as needed.\n",
    "\n",
    "# image_input: the test image being fed into the network to produce the feature maps\n",
    "# tf_activation: should be a tf variable name used during your training procedure that represents the calculated state of a specific weight layer\n",
    "# activation_min/max: can be used to view the activation contrast in more detail, by default matplot sets min and max to the actual min and max values of the output\n",
    "# plt_num: used to plot out multiple different weight feature map sets on the same block, just extend the plt number for each new feature map entry\n",
    "\n",
    "def outputFeatureMap(image_input, tf_activation, activation_min=-1, activation_max=-1 ,plt_num=1):\n",
    "    # Here make sure to preprocess your image_input in a way your network expects\n",
    "    # with size, normalization, ect if needed\n",
    "    # image_input =\n",
    "    # Note: x should be the same name as your network's tensorflow data placeholder variable\n",
    "    # If you get an error tf_activation is not defined it may be having trouble accessing the variable from inside a function\n",
    "    activation = tf_activation.eval(session=sess,feed_dict={x : image_input})\n",
    "    featuremaps = activation.shape[3]\n",
    "    plt.figure(plt_num, figsize=(15,15))\n",
    "    for featuremap in range(featuremaps):\n",
    "        plt.subplot(6,8, featuremap+1) # sets the number of feature maps to show on each row and column\n",
    "        plt.title('FeatureMap ' + str(featuremap)) # displays the feature map number\n",
    "        if activation_min != -1 & activation_max != -1:\n",
    "            plt.imshow(activation[0,:,:, featuremap], interpolation=\"nearest\", vmin =activation_min, vmax=activation_max, cmap=\"gray\")\n",
    "        elif activation_max != -1:\n",
    "            plt.imshow(activation[0,:,:, featuremap], interpolation=\"nearest\", vmax=activation_max, cmap=\"gray\")\n",
    "        elif activation_min !=-1:\n",
    "            plt.imshow(activation[0,:,:, featuremap], interpolation=\"nearest\", vmin=activation_min, cmap=\"gray\")\n",
    "        else:\n",
    "            plt.imshow(activation[0,:,:, featuremap], interpolation=\"nearest\", cmap=\"gray\")"
   ]
  }
 ],
 "metadata": {
  "anaconda-cloud": {},
  "kernelspec": {
   "display_name": "Python 3",
   "language": "python",
   "name": "python3"
  },
  "language_info": {
   "codemirror_mode": {
    "name": "ipython",
    "version": 3
   },
   "file_extension": ".py",
   "mimetype": "text/x-python",
   "name": "python",
   "nbconvert_exporter": "python",
   "pygments_lexer": "ipython3",
   "version": "3.5.2"
  },
  "widgets": {
   "state": {},
   "version": "1.1.2"
  }
 },
 "nbformat": 4,
 "nbformat_minor": 1
}
